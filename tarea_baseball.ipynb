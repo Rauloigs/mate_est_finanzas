{
  "nbformat": 4,
  "nbformat_minor": 0,
  "metadata": {
    "colab": {
      "provenance": [],
      "collapsed_sections": [
        "5KnFHmv30oLp"
      ],
      "authorship_tag": "ABX9TyOm00+ofuwFdTt4YKlBd+Nc",
      "include_colab_link": true
    },
    "kernelspec": {
      "name": "python3",
      "display_name": "Python 3"
    },
    "language_info": {
      "name": "python"
    }
  },
  "cells": [
    {
      "cell_type": "markdown",
      "metadata": {
        "id": "view-in-github",
        "colab_type": "text"
      },
      "source": [
        "<a href=\"https://colab.research.google.com/github/Rauloigs/mate_est_finanzas/blob/main/tarea_baseball.ipynb\" target=\"_parent\"><img src=\"https://colab.research.google.com/assets/colab-badge.svg\" alt=\"Open In Colab\"/></a>"
      ]
    },
    {
      "cell_type": "markdown",
      "source": [
        "# Librearía"
      ],
      "metadata": {
        "id": "5KnFHmv30oLp"
      }
    },
    {
      "cell_type": "code",
      "execution_count": 72,
      "metadata": {
        "colab": {
          "base_uri": "https://localhost:8080/"
        },
        "id": "oVrKukrtyfQH",
        "outputId": "824ceed8-7cf6-4114-9cfa-0cde0048c561"
      },
      "outputs": [
        {
          "output_type": "stream",
          "name": "stdout",
          "text": [
            "Drive already mounted at /content/drive; to attempt to forcibly remount, call drive.mount(\"/content/drive\", force_remount=True).\n"
          ]
        }
      ],
      "source": [
        "# Import Libraries\n",
        "import pandas as pd\n",
        "import numpy as np\n",
        "import scipy.stats as st\n",
        "import datetime as datetime\n",
        "import gspread\n",
        "\n",
        "# To upload files from drive\n",
        "!pip install -U -q PyDrive\n",
        "\n",
        "from pydrive.auth import GoogleAuth\n",
        "from google.auth import default\n",
        "from pydrive.drive import GoogleDrive\n",
        "from google.colab import auth\n",
        "from oauth2client.client import GoogleCredentials\n",
        "from google.colab import drive\n",
        "drive.mount('/content/drive')\n",
        "\n",
        "\n",
        "# Authenticate and create the PyDrive client.\n",
        "creds, _ = default()\n",
        "auth.authenticate_user()\n",
        "gauth = GoogleAuth()\n",
        "gauth.credentials = GoogleCredentials.get_application_default()\n",
        "drive = GoogleDrive(gauth)\n",
        "gc = gspread.authorize(creds)"
      ]
    },
    {
      "cell_type": "markdown",
      "source": [
        "#Desacarga del Archivo\n",
        "\n",
        "todos los datos tienen formato correcto: float e int"
      ],
      "metadata": {
        "id": "MBETohUH0uN1"
      }
    },
    {
      "cell_type": "code",
      "source": [
        "link = 'https://drive.google.com/file/d/1ASD5JPahYnS601MnKIZo1aoUXEr89kw0/view?usp=sharing'\n",
        "# to get the id part of the file\n",
        "id = link.split(\"/\")[-2]\n",
        "downloaded = drive.CreateFile({'id':id})\n",
        "downloaded.GetContentFile('baseball_22.csv')\n",
        "baseball = pd.read_csv('baseball_22.csv')\n",
        "print(f\"baseball: {baseball.shape}\")\n",
        "print(f\" There are: {baseball.isna().sum().sum()} NaNs\")\n",
        "baseball.head()"
      ],
      "metadata": {
        "colab": {
          "base_uri": "https://localhost:8080/",
          "height": 242
        },
        "id": "CMbgadidyuy6",
        "outputId": "185aed2b-18d9-4759-edcd-e585390bd98c"
      },
      "execution_count": 73,
      "outputs": [
        {
          "output_type": "stream",
          "name": "stdout",
          "text": [
            "baseball: (30, 11)\n",
            " There are: 0 NaNs\n"
          ]
        },
        {
          "output_type": "execute_result",
          "data": {
            "text/plain": [
              "                   Team    League  Year Stadium Opened  Team Salary ($ mil)  \\\n",
              "0  Arizona Diamondbacks  National                 1998               66.468   \n",
              "1        Atlanta Braves  National                 2017              150.310   \n",
              "2     Baltimore Orioles  American                 1992               24.555   \n",
              "3        Boston Red Sox  American                 1912              152.141   \n",
              "4          Chicago Cubs  National                 1914              114.050   \n",
              "\n",
              "   Attendance  Wins   ERA     BA   HR  Net worth ($ billions)  2022 Playoffs  \n",
              "0     1605199    74  4.25  0.230  173                   1.380              0  \n",
              "1     3129931   101  3.46  0.253  243                   2.100              1  \n",
              "2     1368367    83  3.97  0.236  171                   1.375              0  \n",
              "3     2625089    78  4.53  0.258  155                   3.900              0  \n",
              "4     2616780    74  4.00  0.238  159                   3.800              0  "
            ],
            "text/html": [
              "\n",
              "  <div id=\"df-56faac69-75b6-4090-8e83-4aeb98be3e7f\" class=\"colab-df-container\">\n",
              "    <div>\n",
              "<style scoped>\n",
              "    .dataframe tbody tr th:only-of-type {\n",
              "        vertical-align: middle;\n",
              "    }\n",
              "\n",
              "    .dataframe tbody tr th {\n",
              "        vertical-align: top;\n",
              "    }\n",
              "\n",
              "    .dataframe thead th {\n",
              "        text-align: right;\n",
              "    }\n",
              "</style>\n",
              "<table border=\"1\" class=\"dataframe\">\n",
              "  <thead>\n",
              "    <tr style=\"text-align: right;\">\n",
              "      <th></th>\n",
              "      <th>Team</th>\n",
              "      <th>League</th>\n",
              "      <th>Year Stadium Opened</th>\n",
              "      <th>Team Salary ($ mil)</th>\n",
              "      <th>Attendance</th>\n",
              "      <th>Wins</th>\n",
              "      <th>ERA</th>\n",
              "      <th>BA</th>\n",
              "      <th>HR</th>\n",
              "      <th>Net worth ($ billions)</th>\n",
              "      <th>2022 Playoffs</th>\n",
              "    </tr>\n",
              "  </thead>\n",
              "  <tbody>\n",
              "    <tr>\n",
              "      <th>0</th>\n",
              "      <td>Arizona Diamondbacks</td>\n",
              "      <td>National</td>\n",
              "      <td>1998</td>\n",
              "      <td>66.468</td>\n",
              "      <td>1605199</td>\n",
              "      <td>74</td>\n",
              "      <td>4.25</td>\n",
              "      <td>0.230</td>\n",
              "      <td>173</td>\n",
              "      <td>1.380</td>\n",
              "      <td>0</td>\n",
              "    </tr>\n",
              "    <tr>\n",
              "      <th>1</th>\n",
              "      <td>Atlanta Braves</td>\n",
              "      <td>National</td>\n",
              "      <td>2017</td>\n",
              "      <td>150.310</td>\n",
              "      <td>3129931</td>\n",
              "      <td>101</td>\n",
              "      <td>3.46</td>\n",
              "      <td>0.253</td>\n",
              "      <td>243</td>\n",
              "      <td>2.100</td>\n",
              "      <td>1</td>\n",
              "    </tr>\n",
              "    <tr>\n",
              "      <th>2</th>\n",
              "      <td>Baltimore Orioles</td>\n",
              "      <td>American</td>\n",
              "      <td>1992</td>\n",
              "      <td>24.555</td>\n",
              "      <td>1368367</td>\n",
              "      <td>83</td>\n",
              "      <td>3.97</td>\n",
              "      <td>0.236</td>\n",
              "      <td>171</td>\n",
              "      <td>1.375</td>\n",
              "      <td>0</td>\n",
              "    </tr>\n",
              "    <tr>\n",
              "      <th>3</th>\n",
              "      <td>Boston Red Sox</td>\n",
              "      <td>American</td>\n",
              "      <td>1912</td>\n",
              "      <td>152.141</td>\n",
              "      <td>2625089</td>\n",
              "      <td>78</td>\n",
              "      <td>4.53</td>\n",
              "      <td>0.258</td>\n",
              "      <td>155</td>\n",
              "      <td>3.900</td>\n",
              "      <td>0</td>\n",
              "    </tr>\n",
              "    <tr>\n",
              "      <th>4</th>\n",
              "      <td>Chicago Cubs</td>\n",
              "      <td>National</td>\n",
              "      <td>1914</td>\n",
              "      <td>114.050</td>\n",
              "      <td>2616780</td>\n",
              "      <td>74</td>\n",
              "      <td>4.00</td>\n",
              "      <td>0.238</td>\n",
              "      <td>159</td>\n",
              "      <td>3.800</td>\n",
              "      <td>0</td>\n",
              "    </tr>\n",
              "  </tbody>\n",
              "</table>\n",
              "</div>\n",
              "    <div class=\"colab-df-buttons\">\n",
              "\n",
              "  <div class=\"colab-df-container\">\n",
              "    <button class=\"colab-df-convert\" onclick=\"convertToInteractive('df-56faac69-75b6-4090-8e83-4aeb98be3e7f')\"\n",
              "            title=\"Convert this dataframe to an interactive table.\"\n",
              "            style=\"display:none;\">\n",
              "\n",
              "  <svg xmlns=\"http://www.w3.org/2000/svg\" height=\"24px\" viewBox=\"0 -960 960 960\">\n",
              "    <path d=\"M120-120v-720h720v720H120Zm60-500h600v-160H180v160Zm220 220h160v-160H400v160Zm0 220h160v-160H400v160ZM180-400h160v-160H180v160Zm440 0h160v-160H620v160ZM180-180h160v-160H180v160Zm440 0h160v-160H620v160Z\"/>\n",
              "  </svg>\n",
              "    </button>\n",
              "\n",
              "  <style>\n",
              "    .colab-df-container {\n",
              "      display:flex;\n",
              "      gap: 12px;\n",
              "    }\n",
              "\n",
              "    .colab-df-convert {\n",
              "      background-color: #E8F0FE;\n",
              "      border: none;\n",
              "      border-radius: 50%;\n",
              "      cursor: pointer;\n",
              "      display: none;\n",
              "      fill: #1967D2;\n",
              "      height: 32px;\n",
              "      padding: 0 0 0 0;\n",
              "      width: 32px;\n",
              "    }\n",
              "\n",
              "    .colab-df-convert:hover {\n",
              "      background-color: #E2EBFA;\n",
              "      box-shadow: 0px 1px 2px rgba(60, 64, 67, 0.3), 0px 1px 3px 1px rgba(60, 64, 67, 0.15);\n",
              "      fill: #174EA6;\n",
              "    }\n",
              "\n",
              "    .colab-df-buttons div {\n",
              "      margin-bottom: 4px;\n",
              "    }\n",
              "\n",
              "    [theme=dark] .colab-df-convert {\n",
              "      background-color: #3B4455;\n",
              "      fill: #D2E3FC;\n",
              "    }\n",
              "\n",
              "    [theme=dark] .colab-df-convert:hover {\n",
              "      background-color: #434B5C;\n",
              "      box-shadow: 0px 1px 3px 1px rgba(0, 0, 0, 0.15);\n",
              "      filter: drop-shadow(0px 1px 2px rgba(0, 0, 0, 0.3));\n",
              "      fill: #FFFFFF;\n",
              "    }\n",
              "  </style>\n",
              "\n",
              "    <script>\n",
              "      const buttonEl =\n",
              "        document.querySelector('#df-56faac69-75b6-4090-8e83-4aeb98be3e7f button.colab-df-convert');\n",
              "      buttonEl.style.display =\n",
              "        google.colab.kernel.accessAllowed ? 'block' : 'none';\n",
              "\n",
              "      async function convertToInteractive(key) {\n",
              "        const element = document.querySelector('#df-56faac69-75b6-4090-8e83-4aeb98be3e7f');\n",
              "        const dataTable =\n",
              "          await google.colab.kernel.invokeFunction('convertToInteractive',\n",
              "                                                    [key], {});\n",
              "        if (!dataTable) return;\n",
              "\n",
              "        const docLinkHtml = 'Like what you see? Visit the ' +\n",
              "          '<a target=\"_blank\" href=https://colab.research.google.com/notebooks/data_table.ipynb>data table notebook</a>'\n",
              "          + ' to learn more about interactive tables.';\n",
              "        element.innerHTML = '';\n",
              "        dataTable['output_type'] = 'display_data';\n",
              "        await google.colab.output.renderOutput(dataTable, element);\n",
              "        const docLink = document.createElement('div');\n",
              "        docLink.innerHTML = docLinkHtml;\n",
              "        element.appendChild(docLink);\n",
              "      }\n",
              "    </script>\n",
              "  </div>\n",
              "\n",
              "\n",
              "<div id=\"df-50708a2b-3888-4000-9509-48d3bf57ecd1\">\n",
              "  <button class=\"colab-df-quickchart\" onclick=\"quickchart('df-50708a2b-3888-4000-9509-48d3bf57ecd1')\"\n",
              "            title=\"Suggest charts\"\n",
              "            style=\"display:none;\">\n",
              "\n",
              "<svg xmlns=\"http://www.w3.org/2000/svg\" height=\"24px\"viewBox=\"0 0 24 24\"\n",
              "     width=\"24px\">\n",
              "    <g>\n",
              "        <path d=\"M19 3H5c-1.1 0-2 .9-2 2v14c0 1.1.9 2 2 2h14c1.1 0 2-.9 2-2V5c0-1.1-.9-2-2-2zM9 17H7v-7h2v7zm4 0h-2V7h2v10zm4 0h-2v-4h2v4z\"/>\n",
              "    </g>\n",
              "</svg>\n",
              "  </button>\n",
              "\n",
              "<style>\n",
              "  .colab-df-quickchart {\n",
              "      --bg-color: #E8F0FE;\n",
              "      --fill-color: #1967D2;\n",
              "      --hover-bg-color: #E2EBFA;\n",
              "      --hover-fill-color: #174EA6;\n",
              "      --disabled-fill-color: #AAA;\n",
              "      --disabled-bg-color: #DDD;\n",
              "  }\n",
              "\n",
              "  [theme=dark] .colab-df-quickchart {\n",
              "      --bg-color: #3B4455;\n",
              "      --fill-color: #D2E3FC;\n",
              "      --hover-bg-color: #434B5C;\n",
              "      --hover-fill-color: #FFFFFF;\n",
              "      --disabled-bg-color: #3B4455;\n",
              "      --disabled-fill-color: #666;\n",
              "  }\n",
              "\n",
              "  .colab-df-quickchart {\n",
              "    background-color: var(--bg-color);\n",
              "    border: none;\n",
              "    border-radius: 50%;\n",
              "    cursor: pointer;\n",
              "    display: none;\n",
              "    fill: var(--fill-color);\n",
              "    height: 32px;\n",
              "    padding: 0;\n",
              "    width: 32px;\n",
              "  }\n",
              "\n",
              "  .colab-df-quickchart:hover {\n",
              "    background-color: var(--hover-bg-color);\n",
              "    box-shadow: 0 1px 2px rgba(60, 64, 67, 0.3), 0 1px 3px 1px rgba(60, 64, 67, 0.15);\n",
              "    fill: var(--button-hover-fill-color);\n",
              "  }\n",
              "\n",
              "  .colab-df-quickchart-complete:disabled,\n",
              "  .colab-df-quickchart-complete:disabled:hover {\n",
              "    background-color: var(--disabled-bg-color);\n",
              "    fill: var(--disabled-fill-color);\n",
              "    box-shadow: none;\n",
              "  }\n",
              "\n",
              "  .colab-df-spinner {\n",
              "    border: 2px solid var(--fill-color);\n",
              "    border-color: transparent;\n",
              "    border-bottom-color: var(--fill-color);\n",
              "    animation:\n",
              "      spin 1s steps(1) infinite;\n",
              "  }\n",
              "\n",
              "  @keyframes spin {\n",
              "    0% {\n",
              "      border-color: transparent;\n",
              "      border-bottom-color: var(--fill-color);\n",
              "      border-left-color: var(--fill-color);\n",
              "    }\n",
              "    20% {\n",
              "      border-color: transparent;\n",
              "      border-left-color: var(--fill-color);\n",
              "      border-top-color: var(--fill-color);\n",
              "    }\n",
              "    30% {\n",
              "      border-color: transparent;\n",
              "      border-left-color: var(--fill-color);\n",
              "      border-top-color: var(--fill-color);\n",
              "      border-right-color: var(--fill-color);\n",
              "    }\n",
              "    40% {\n",
              "      border-color: transparent;\n",
              "      border-right-color: var(--fill-color);\n",
              "      border-top-color: var(--fill-color);\n",
              "    }\n",
              "    60% {\n",
              "      border-color: transparent;\n",
              "      border-right-color: var(--fill-color);\n",
              "    }\n",
              "    80% {\n",
              "      border-color: transparent;\n",
              "      border-right-color: var(--fill-color);\n",
              "      border-bottom-color: var(--fill-color);\n",
              "    }\n",
              "    90% {\n",
              "      border-color: transparent;\n",
              "      border-bottom-color: var(--fill-color);\n",
              "    }\n",
              "  }\n",
              "</style>\n",
              "\n",
              "  <script>\n",
              "    async function quickchart(key) {\n",
              "      const quickchartButtonEl =\n",
              "        document.querySelector('#' + key + ' button');\n",
              "      quickchartButtonEl.disabled = true;  // To prevent multiple clicks.\n",
              "      quickchartButtonEl.classList.add('colab-df-spinner');\n",
              "      try {\n",
              "        const charts = await google.colab.kernel.invokeFunction(\n",
              "            'suggestCharts', [key], {});\n",
              "      } catch (error) {\n",
              "        console.error('Error during call to suggestCharts:', error);\n",
              "      }\n",
              "      quickchartButtonEl.classList.remove('colab-df-spinner');\n",
              "      quickchartButtonEl.classList.add('colab-df-quickchart-complete');\n",
              "    }\n",
              "    (() => {\n",
              "      let quickchartButtonEl =\n",
              "        document.querySelector('#df-50708a2b-3888-4000-9509-48d3bf57ecd1 button');\n",
              "      quickchartButtonEl.style.display =\n",
              "        google.colab.kernel.accessAllowed ? 'block' : 'none';\n",
              "    })();\n",
              "  </script>\n",
              "</div>\n",
              "\n",
              "    </div>\n",
              "  </div>\n"
            ],
            "application/vnd.google.colaboratory.intrinsic+json": {
              "type": "dataframe",
              "variable_name": "baseball",
              "summary": "{\n  \"name\": \"baseball\",\n  \"rows\": 30,\n  \"fields\": [\n    {\n      \"column\": \"Team\",\n      \"properties\": {\n        \"dtype\": \"string\",\n        \"num_unique_values\": 30,\n        \"samples\": [\n          \"Texas Rangers\",\n          \"Milwaukee Brewers\",\n          \"San Francisco Giants\"\n        ],\n        \"semantic_type\": \"\",\n        \"description\": \"\"\n      }\n    },\n    {\n      \"column\": \"League\",\n      \"properties\": {\n        \"dtype\": \"category\",\n        \"num_unique_values\": 2,\n        \"samples\": [\n          \"American\",\n          \"National\"\n        ],\n        \"semantic_type\": \"\",\n        \"description\": \"\"\n      }\n    },\n    {\n      \"column\": \"Year Stadium Opened\",\n      \"properties\": {\n        \"dtype\": \"number\",\n        \"std\": 25,\n        \"min\": 1912,\n        \"max\": 2017,\n        \"num_unique_values\": 23,\n        \"samples\": [\n          2010,\n          2000\n        ],\n        \"semantic_type\": \"\",\n        \"description\": \"\"\n      }\n    },\n    {\n      \"column\": \"Team Salary ($ mil)\",\n      \"properties\": {\n        \"dtype\": \"number\",\n        \"std\": 60.17209174474434,\n        \"min\": 24.555,\n        \"max\": 234.35,\n        \"num_unique_values\": 30,\n        \"samples\": [\n          101.308,\n          117.339\n        ],\n        \"semantic_type\": \"\",\n        \"description\": \"\"\n      }\n    },\n    {\n      \"column\": \"Attendance\",\n      \"properties\": {\n        \"dtype\": \"number\",\n        \"std\": 773722,\n        \"min\": 787902,\n        \"max\": 3861408,\n        \"num_unique_values\": 30,\n        \"samples\": [\n          2011381,\n          2412420\n        ],\n        \"semantic_type\": \"\",\n        \"description\": \"\"\n      }\n    },\n    {\n      \"column\": \"Wins\",\n      \"properties\": {\n        \"dtype\": \"number\",\n        \"std\": 14,\n        \"min\": 55,\n        \"max\": 111,\n        \"num_unique_values\": 22,\n        \"samples\": [\n          74,\n          69\n        ],\n        \"semantic_type\": \"\",\n        \"description\": \"\"\n      }\n    },\n    {\n      \"column\": \"ERA\",\n      \"properties\": {\n        \"dtype\": \"number\",\n        \"std\": 0.5591787903168627,\n        \"min\": 2.8,\n        \"max\": 5.06,\n        \"num_unique_values\": 27,\n        \"samples\": [\n          4.04,\n          3.87\n        ],\n        \"semantic_type\": \"\",\n        \"description\": \"\"\n      }\n    },\n    {\n      \"column\": \"BA\",\n      \"properties\": {\n        \"dtype\": \"number\",\n        \"std\": 0.011943785957078507,\n        \"min\": 0.216,\n        \"max\": 0.264,\n        \"num_unique_values\": 22,\n        \"samples\": [\n          0.23,\n          0.259\n        ],\n        \"semantic_type\": \"\",\n        \"description\": \"\"\n      }\n    },\n    {\n      \"column\": \"HR\",\n      \"properties\": {\n        \"dtype\": \"number\",\n        \"std\": 34,\n        \"min\": 110,\n        \"max\": 254,\n        \"num_unique_values\": 27,\n        \"samples\": [\n          110,\n          144\n        ],\n        \"semantic_type\": \"\",\n        \"description\": \"\"\n      }\n    },\n    {\n      \"column\": \"Net worth ($ billions)\",\n      \"properties\": {\n        \"dtype\": \"number\",\n        \"std\": 1.14006533388102,\n        \"min\": 0.99,\n        \"max\": 6.0,\n        \"num_unique_values\": 30,\n        \"samples\": [\n          2.05,\n          1.28\n        ],\n        \"semantic_type\": \"\",\n        \"description\": \"\"\n      }\n    },\n    {\n      \"column\": \"2022 Playoffs\",\n      \"properties\": {\n        \"dtype\": \"number\",\n        \"std\": 0,\n        \"min\": 0,\n        \"max\": 1,\n        \"num_unique_values\": 2,\n        \"samples\": [\n          1,\n          0\n        ],\n        \"semantic_type\": \"\",\n        \"description\": \"\"\n      }\n    }\n  ]\n}"
            }
          },
          "metadata": {},
          "execution_count": 73
        }
      ]
    },
    {
      "cell_type": "markdown",
      "source": [
        "#Funciones\n",
        "\n",
        "Función Z distribución normal, esta función se utiliza en los 3 problemas ya que n=>30.\n",
        "\n",
        "**Resultado son 2 cosas:**\n",
        "1. El intervalo\n",
        "2. El valor de Z"
      ],
      "metadata": {
        "id": "-Spgh-x-5ejW"
      }
    },
    {
      "cell_type": "code",
      "source": [
        "# función para calcular el intervalo de confianza Z\n",
        "def intervalo_confianza_z(media, desviacion_estandar_poblacional, n, confianza):\n",
        "  \"\"\"\n",
        "  Calcula el intervalo de confianza para una distribución normal Z.\n",
        "  \"\"\"\n",
        "  error_estandar = desviacion_estandar_poblacional / np.sqrt(n)\n",
        "  valor_critico = st.norm.ppf((1 + confianza) / 2) #valor de z\n",
        "  margen_error = valor_critico * error_estandar\n",
        "  intervalo_confianza = (media - margen_error, media + margen_error)\n",
        "  return print(\"El intervalo es:\", intervalo_confianza, \"Con un valor Z de:\",valor_critico)"
      ],
      "metadata": {
        "id": "MnxA835_4OBA"
      },
      "execution_count": 74,
      "outputs": []
    },
    {
      "cell_type": "markdown",
      "source": [
        "## 1. Obtenga un intervalo de confianza de 95% para la media de homeruns por equipo\n",
        "\n",
        "se usa la distribución normal z, porque n >= 30"
      ],
      "metadata": {
        "id": "RhE3xVeB1Z6Z"
      }
    },
    {
      "cell_type": "code",
      "source": [
        "# ¿Promedio de los HR?\n",
        "media_hr = baseball['HR'].mean()\n",
        "media_hr"
      ],
      "metadata": {
        "colab": {
          "base_uri": "https://localhost:8080/"
        },
        "id": "HXBSP-4905BF",
        "outputId": "f34f3c72-3130-4463-beb7-6d7299fa417a"
      },
      "execution_count": 75,
      "outputs": [
        {
          "output_type": "execute_result",
          "data": {
            "text/plain": [
              "173.83333333333334"
            ]
          },
          "metadata": {},
          "execution_count": 75
        }
      ]
    },
    {
      "cell_type": "code",
      "source": [
        "#¿La desv estándar de los HR?\n",
        "desv_std_hr = baseball['HR'].std()\n",
        "desv_std_hr"
      ],
      "metadata": {
        "colab": {
          "base_uri": "https://localhost:8080/"
        },
        "id": "Kd3DGchQ2EIb",
        "outputId": "a9e9e9b5-ad38-4c35-9990-b6b7d04026dc"
      },
      "execution_count": 76,
      "outputs": [
        {
          "output_type": "execute_result",
          "data": {
            "text/plain": [
              "34.87325161439523"
            ]
          },
          "metadata": {},
          "execution_count": 76
        }
      ]
    },
    {
      "cell_type": "code",
      "source": [
        "# tamaño de la muestra\n",
        "# este tamaño de muestra se utiliza en los otros dos problemas!\n",
        "n = baseball['HR'].count()\n",
        "n"
      ],
      "metadata": {
        "colab": {
          "base_uri": "https://localhost:8080/"
        },
        "id": "W1CuRmHB3AzY",
        "outputId": "a3d423ec-7431-4404-f04a-3e0006fee8b6"
      },
      "execution_count": 77,
      "outputs": [
        {
          "output_type": "execute_result",
          "data": {
            "text/plain": [
              "30"
            ]
          },
          "metadata": {},
          "execution_count": 77
        }
      ]
    },
    {
      "cell_type": "code",
      "source": [
        "# Calcula el intervalo de confianza\n",
        "intervalo = intervalo_confianza_z(media_hr, desv_std_hr, n, confianza=0.95)\n",
        "\n",
        "# Imprime el resultado\n",
        "print(\"Intervalo de confianza Z:\", intervalo)"
      ],
      "metadata": {
        "colab": {
          "base_uri": "https://localhost:8080/"
        },
        "id": "UCUTWwWO3mD4",
        "outputId": "23c1f5af-2847-4bfb-ec7f-282b13bce894"
      },
      "execution_count": 78,
      "outputs": [
        {
          "output_type": "stream",
          "name": "stdout",
          "text": [
            "El intervalo es: (161.35432982116316, 186.31233684550352) Con un valor Z de: 1.959963984540054\n",
            "Intervalo de confianza Z: None\n"
          ]
        }
      ]
    },
    {
      "cell_type": "markdown",
      "source": [
        "##2. Obtenga un intervalo de confianza del 95% para la media del promedio de bateo de los equipos de la liga"
      ],
      "metadata": {
        "id": "cINkp7ooIX4R"
      }
    },
    {
      "cell_type": "code",
      "source": [
        "# ¿Promedio de los HR?\n",
        "media_ba = baseball['BA'].mean()\n",
        "media_ba"
      ],
      "metadata": {
        "colab": {
          "base_uri": "https://localhost:8080/"
        },
        "id": "eT1cbym547_-",
        "outputId": "7fb30413-4cd3-4bb8-ddec-e9563217f11f"
      },
      "execution_count": 79,
      "outputs": [
        {
          "output_type": "execute_result",
          "data": {
            "text/plain": [
              "0.24263333333333334"
            ]
          },
          "metadata": {},
          "execution_count": 79
        }
      ]
    },
    {
      "cell_type": "code",
      "source": [
        "#¿La desv estándar de los HR?\n",
        "desv_std_ba = baseball['BA'].std()\n",
        "desv_std_ba"
      ],
      "metadata": {
        "colab": {
          "base_uri": "https://localhost:8080/"
        },
        "id": "DRiq6EMQI9YI",
        "outputId": "0a5db403-53f6-49e1-e8ed-2cb6831ece8d"
      },
      "execution_count": 80,
      "outputs": [
        {
          "output_type": "execute_result",
          "data": {
            "text/plain": [
              "0.011943785957078507"
            ]
          },
          "metadata": {},
          "execution_count": 80
        }
      ]
    },
    {
      "cell_type": "code",
      "source": [
        "# Calcula el intervalo de confianza\n",
        "intervalo = intervalo_confianza_z(media_ba, desv_std_ba, n, confianza=0.95)\n",
        "\n",
        "# Imprime el resultado\n",
        "print(\"Intervalo de confianza Z:\", intervalo)"
      ],
      "metadata": {
        "colab": {
          "base_uri": "https://localhost:8080/"
        },
        "id": "jiDLninAJHY_",
        "outputId": "a3e9ff44-2474-4dc8-8134-8f48d0477424"
      },
      "execution_count": 81,
      "outputs": [
        {
          "output_type": "stream",
          "name": "stdout",
          "text": [
            "El intervalo es: (0.23835938295569012, 0.24690728371097656) Con un valor Z de: 1.959963984540054\n",
            "Intervalo de confianza Z: None\n"
          ]
        }
      ]
    },
    {
      "cell_type": "markdown",
      "source": [
        "##3. Obtenga un intervalo de confianza del 95% para la media de carreras obtenidas por los equipo de la liga"
      ],
      "metadata": {
        "id": "nl_cgdX1InXK"
      }
    },
    {
      "cell_type": "code",
      "source": [
        "# ¿Promedio de los HR?\n",
        "media_wins = baseball['Wins'].mean()\n",
        "media_wins"
      ],
      "metadata": {
        "colab": {
          "base_uri": "https://localhost:8080/"
        },
        "outputId": "c43a016a-18df-4caf-f646-88999cab1db5",
        "id": "WSbO5yDMKQrW"
      },
      "execution_count": 82,
      "outputs": [
        {
          "output_type": "execute_result",
          "data": {
            "text/plain": [
              "81.0"
            ]
          },
          "metadata": {},
          "execution_count": 82
        }
      ]
    },
    {
      "cell_type": "code",
      "source": [
        "#¿La desv estándar de los HR?\n",
        "desv_std_wins = baseball['Wins'].std()\n",
        "desv_std_wins"
      ],
      "metadata": {
        "colab": {
          "base_uri": "https://localhost:8080/"
        },
        "id": "yxwk8pESKd4L",
        "outputId": "a262e6ce-6e80-49b7-84fe-a5a6af274989"
      },
      "execution_count": 83,
      "outputs": [
        {
          "output_type": "execute_result",
          "data": {
            "text/plain": [
              "14.682854180865235"
            ]
          },
          "metadata": {},
          "execution_count": 83
        }
      ]
    },
    {
      "cell_type": "code",
      "source": [
        "# Calcula el intervalo de confianza\n",
        "intervalo = intervalo_confianza_z(media_wins, desv_std_wins, n, confianza=0.95)\n",
        "\n",
        "# Imprime el resultado\n",
        "print(\"Intervalo de confianza Z:\", intervalo)"
      ],
      "metadata": {
        "colab": {
          "base_uri": "https://localhost:8080/"
        },
        "id": "F7wE7EcMKbqj",
        "outputId": "981857e8-7bc0-4726-9df9-626d48d3b9e0"
      },
      "execution_count": 84,
      "outputs": [
        {
          "output_type": "stream",
          "name": "stdout",
          "text": [
            "El intervalo es: (75.74590465730859, 86.25409534269141) Con un valor Z de: 1.959963984540054\n",
            "Intervalo de confianza Z: None\n"
          ]
        }
      ]
    }
  ]
}