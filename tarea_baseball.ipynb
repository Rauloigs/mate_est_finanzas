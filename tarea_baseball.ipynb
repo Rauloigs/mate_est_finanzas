{
  "nbformat": 4,
  "nbformat_minor": 0,
  "metadata": {
    "colab": {
      "provenance": [],
      "authorship_tag": "ABX9TyNT4TuA17j1Br3d5uvQnyPf",
      "include_colab_link": true
    },
    "kernelspec": {
      "name": "python3",
      "display_name": "Python 3"
    },
    "language_info": {
      "name": "python"
    }
  },
  "cells": [
    {
      "cell_type": "markdown",
      "metadata": {
        "id": "view-in-github",
        "colab_type": "text"
      },
      "source": [
        "<a href=\"https://colab.research.google.com/github/Rauloigs/mate_est_finanzas/blob/main/tarea_baseball.ipynb\" target=\"_parent\"><img src=\"https://colab.research.google.com/assets/colab-badge.svg\" alt=\"Open In Colab\"/></a>"
      ]
    },
    {
      "cell_type": "markdown",
      "source": [
        "# Librería"
      ],
      "metadata": {
        "id": "5KnFHmv30oLp"
      }
    },
    {
      "cell_type": "code",
      "execution_count": 24,
      "metadata": {
        "colab": {
          "base_uri": "https://localhost:8080/"
        },
        "id": "oVrKukrtyfQH",
        "outputId": "3ce513c8-e5c5-4955-caba-8da784f178b7"
      },
      "outputs": [
        {
          "output_type": "stream",
          "name": "stdout",
          "text": [
            "Drive already mounted at /content/drive; to attempt to forcibly remount, call drive.mount(\"/content/drive\", force_remount=True).\n"
          ]
        }
      ],
      "source": [
        "# Import Libraries\n",
        "import pandas as pd\n",
        "import numpy as np\n",
        "import scipy.stats as st\n",
        "from scipy.stats import t\n",
        "import datetime as datetime\n",
        "import gspread\n",
        "\n",
        "# To upload files from drive\n",
        "!pip install -U -q PyDrive\n",
        "\n",
        "from pydrive.auth import GoogleAuth\n",
        "from google.auth import default\n",
        "from pydrive.drive import GoogleDrive\n",
        "from google.colab import auth\n",
        "from oauth2client.client import GoogleCredentials\n",
        "from google.colab import drive\n",
        "drive.mount('/content/drive')\n",
        "\n",
        "\n",
        "# Authenticate and create the PyDrive client.\n",
        "creds, _ = default()\n",
        "auth.authenticate_user()\n",
        "gauth = GoogleAuth()\n",
        "gauth.credentials = GoogleCredentials.get_application_default()\n",
        "drive = GoogleDrive(gauth)\n",
        "gc = gspread.authorize(creds)"
      ]
    },
    {
      "cell_type": "markdown",
      "source": [
        "#Desacarga del Archivo\n",
        "\n",
        "todos los datos tienen formato correcto: float e int"
      ],
      "metadata": {
        "id": "MBETohUH0uN1"
      }
    },
    {
      "cell_type": "code",
      "source": [
        "link = 'https://drive.google.com/file/d/1ASD5JPahYnS601MnKIZo1aoUXEr89kw0/view?usp=sharing'\n",
        "# to get the id part of the file\n",
        "id = link.split(\"/\")[-2]\n",
        "downloaded = drive.CreateFile({'id':id})\n",
        "downloaded.GetContentFile('baseball_22.csv')\n",
        "baseball = pd.read_csv('baseball_22.csv')\n",
        "print(f\"baseball: {baseball.shape}\")\n",
        "print(f\" There are: {baseball.isna().sum().sum()} NaNs\")\n",
        "baseball.head()"
      ],
      "metadata": {
        "colab": {
          "base_uri": "https://localhost:8080/",
          "height": 242
        },
        "id": "CMbgadidyuy6",
        "outputId": "9651919d-db07-4af3-ac88-a1a8e9af72b6"
      },
      "execution_count": 25,
      "outputs": [
        {
          "output_type": "stream",
          "name": "stdout",
          "text": [
            "baseball: (30, 11)\n",
            " There are: 0 NaNs\n"
          ]
        },
        {
          "output_type": "execute_result",
          "data": {
            "text/plain": [
              "                   Team    League  Year Stadium Opened  Team Salary ($ mil)  \\\n",
              "0  Arizona Diamondbacks  National                 1998               66.468   \n",
              "1        Atlanta Braves  National                 2017              150.310   \n",
              "2     Baltimore Orioles  American                 1992               24.555   \n",
              "3        Boston Red Sox  American                 1912              152.141   \n",
              "4          Chicago Cubs  National                 1914              114.050   \n",
              "\n",
              "   Attendance  Wins   ERA     BA   HR  Net worth ($ billions)  2022 Playoffs  \n",
              "0     1605199    74  4.25  0.230  173                   1.380              0  \n",
              "1     3129931   101  3.46  0.253  243                   2.100              1  \n",
              "2     1368367    83  3.97  0.236  171                   1.375              0  \n",
              "3     2625089    78  4.53  0.258  155                   3.900              0  \n",
              "4     2616780    74  4.00  0.238  159                   3.800              0  "
            ],
            "text/html": [
              "\n",
              "  <div id=\"df-f4ab657d-da60-4f06-850e-cb1d28eadc9e\" class=\"colab-df-container\">\n",
              "    <div>\n",
              "<style scoped>\n",
              "    .dataframe tbody tr th:only-of-type {\n",
              "        vertical-align: middle;\n",
              "    }\n",
              "\n",
              "    .dataframe tbody tr th {\n",
              "        vertical-align: top;\n",
              "    }\n",
              "\n",
              "    .dataframe thead th {\n",
              "        text-align: right;\n",
              "    }\n",
              "</style>\n",
              "<table border=\"1\" class=\"dataframe\">\n",
              "  <thead>\n",
              "    <tr style=\"text-align: right;\">\n",
              "      <th></th>\n",
              "      <th>Team</th>\n",
              "      <th>League</th>\n",
              "      <th>Year Stadium Opened</th>\n",
              "      <th>Team Salary ($ mil)</th>\n",
              "      <th>Attendance</th>\n",
              "      <th>Wins</th>\n",
              "      <th>ERA</th>\n",
              "      <th>BA</th>\n",
              "      <th>HR</th>\n",
              "      <th>Net worth ($ billions)</th>\n",
              "      <th>2022 Playoffs</th>\n",
              "    </tr>\n",
              "  </thead>\n",
              "  <tbody>\n",
              "    <tr>\n",
              "      <th>0</th>\n",
              "      <td>Arizona Diamondbacks</td>\n",
              "      <td>National</td>\n",
              "      <td>1998</td>\n",
              "      <td>66.468</td>\n",
              "      <td>1605199</td>\n",
              "      <td>74</td>\n",
              "      <td>4.25</td>\n",
              "      <td>0.230</td>\n",
              "      <td>173</td>\n",
              "      <td>1.380</td>\n",
              "      <td>0</td>\n",
              "    </tr>\n",
              "    <tr>\n",
              "      <th>1</th>\n",
              "      <td>Atlanta Braves</td>\n",
              "      <td>National</td>\n",
              "      <td>2017</td>\n",
              "      <td>150.310</td>\n",
              "      <td>3129931</td>\n",
              "      <td>101</td>\n",
              "      <td>3.46</td>\n",
              "      <td>0.253</td>\n",
              "      <td>243</td>\n",
              "      <td>2.100</td>\n",
              "      <td>1</td>\n",
              "    </tr>\n",
              "    <tr>\n",
              "      <th>2</th>\n",
              "      <td>Baltimore Orioles</td>\n",
              "      <td>American</td>\n",
              "      <td>1992</td>\n",
              "      <td>24.555</td>\n",
              "      <td>1368367</td>\n",
              "      <td>83</td>\n",
              "      <td>3.97</td>\n",
              "      <td>0.236</td>\n",
              "      <td>171</td>\n",
              "      <td>1.375</td>\n",
              "      <td>0</td>\n",
              "    </tr>\n",
              "    <tr>\n",
              "      <th>3</th>\n",
              "      <td>Boston Red Sox</td>\n",
              "      <td>American</td>\n",
              "      <td>1912</td>\n",
              "      <td>152.141</td>\n",
              "      <td>2625089</td>\n",
              "      <td>78</td>\n",
              "      <td>4.53</td>\n",
              "      <td>0.258</td>\n",
              "      <td>155</td>\n",
              "      <td>3.900</td>\n",
              "      <td>0</td>\n",
              "    </tr>\n",
              "    <tr>\n",
              "      <th>4</th>\n",
              "      <td>Chicago Cubs</td>\n",
              "      <td>National</td>\n",
              "      <td>1914</td>\n",
              "      <td>114.050</td>\n",
              "      <td>2616780</td>\n",
              "      <td>74</td>\n",
              "      <td>4.00</td>\n",
              "      <td>0.238</td>\n",
              "      <td>159</td>\n",
              "      <td>3.800</td>\n",
              "      <td>0</td>\n",
              "    </tr>\n",
              "  </tbody>\n",
              "</table>\n",
              "</div>\n",
              "    <div class=\"colab-df-buttons\">\n",
              "\n",
              "  <div class=\"colab-df-container\">\n",
              "    <button class=\"colab-df-convert\" onclick=\"convertToInteractive('df-f4ab657d-da60-4f06-850e-cb1d28eadc9e')\"\n",
              "            title=\"Convert this dataframe to an interactive table.\"\n",
              "            style=\"display:none;\">\n",
              "\n",
              "  <svg xmlns=\"http://www.w3.org/2000/svg\" height=\"24px\" viewBox=\"0 -960 960 960\">\n",
              "    <path d=\"M120-120v-720h720v720H120Zm60-500h600v-160H180v160Zm220 220h160v-160H400v160Zm0 220h160v-160H400v160ZM180-400h160v-160H180v160Zm440 0h160v-160H620v160ZM180-180h160v-160H180v160Zm440 0h160v-160H620v160Z\"/>\n",
              "  </svg>\n",
              "    </button>\n",
              "\n",
              "  <style>\n",
              "    .colab-df-container {\n",
              "      display:flex;\n",
              "      gap: 12px;\n",
              "    }\n",
              "\n",
              "    .colab-df-convert {\n",
              "      background-color: #E8F0FE;\n",
              "      border: none;\n",
              "      border-radius: 50%;\n",
              "      cursor: pointer;\n",
              "      display: none;\n",
              "      fill: #1967D2;\n",
              "      height: 32px;\n",
              "      padding: 0 0 0 0;\n",
              "      width: 32px;\n",
              "    }\n",
              "\n",
              "    .colab-df-convert:hover {\n",
              "      background-color: #E2EBFA;\n",
              "      box-shadow: 0px 1px 2px rgba(60, 64, 67, 0.3), 0px 1px 3px 1px rgba(60, 64, 67, 0.15);\n",
              "      fill: #174EA6;\n",
              "    }\n",
              "\n",
              "    .colab-df-buttons div {\n",
              "      margin-bottom: 4px;\n",
              "    }\n",
              "\n",
              "    [theme=dark] .colab-df-convert {\n",
              "      background-color: #3B4455;\n",
              "      fill: #D2E3FC;\n",
              "    }\n",
              "\n",
              "    [theme=dark] .colab-df-convert:hover {\n",
              "      background-color: #434B5C;\n",
              "      box-shadow: 0px 1px 3px 1px rgba(0, 0, 0, 0.15);\n",
              "      filter: drop-shadow(0px 1px 2px rgba(0, 0, 0, 0.3));\n",
              "      fill: #FFFFFF;\n",
              "    }\n",
              "  </style>\n",
              "\n",
              "    <script>\n",
              "      const buttonEl =\n",
              "        document.querySelector('#df-f4ab657d-da60-4f06-850e-cb1d28eadc9e button.colab-df-convert');\n",
              "      buttonEl.style.display =\n",
              "        google.colab.kernel.accessAllowed ? 'block' : 'none';\n",
              "\n",
              "      async function convertToInteractive(key) {\n",
              "        const element = document.querySelector('#df-f4ab657d-da60-4f06-850e-cb1d28eadc9e');\n",
              "        const dataTable =\n",
              "          await google.colab.kernel.invokeFunction('convertToInteractive',\n",
              "                                                    [key], {});\n",
              "        if (!dataTable) return;\n",
              "\n",
              "        const docLinkHtml = 'Like what you see? Visit the ' +\n",
              "          '<a target=\"_blank\" href=https://colab.research.google.com/notebooks/data_table.ipynb>data table notebook</a>'\n",
              "          + ' to learn more about interactive tables.';\n",
              "        element.innerHTML = '';\n",
              "        dataTable['output_type'] = 'display_data';\n",
              "        await google.colab.output.renderOutput(dataTable, element);\n",
              "        const docLink = document.createElement('div');\n",
              "        docLink.innerHTML = docLinkHtml;\n",
              "        element.appendChild(docLink);\n",
              "      }\n",
              "    </script>\n",
              "  </div>\n",
              "\n",
              "\n",
              "<div id=\"df-81b3d60a-8600-44c7-9e01-046d0d710601\">\n",
              "  <button class=\"colab-df-quickchart\" onclick=\"quickchart('df-81b3d60a-8600-44c7-9e01-046d0d710601')\"\n",
              "            title=\"Suggest charts\"\n",
              "            style=\"display:none;\">\n",
              "\n",
              "<svg xmlns=\"http://www.w3.org/2000/svg\" height=\"24px\"viewBox=\"0 0 24 24\"\n",
              "     width=\"24px\">\n",
              "    <g>\n",
              "        <path d=\"M19 3H5c-1.1 0-2 .9-2 2v14c0 1.1.9 2 2 2h14c1.1 0 2-.9 2-2V5c0-1.1-.9-2-2-2zM9 17H7v-7h2v7zm4 0h-2V7h2v10zm4 0h-2v-4h2v4z\"/>\n",
              "    </g>\n",
              "</svg>\n",
              "  </button>\n",
              "\n",
              "<style>\n",
              "  .colab-df-quickchart {\n",
              "      --bg-color: #E8F0FE;\n",
              "      --fill-color: #1967D2;\n",
              "      --hover-bg-color: #E2EBFA;\n",
              "      --hover-fill-color: #174EA6;\n",
              "      --disabled-fill-color: #AAA;\n",
              "      --disabled-bg-color: #DDD;\n",
              "  }\n",
              "\n",
              "  [theme=dark] .colab-df-quickchart {\n",
              "      --bg-color: #3B4455;\n",
              "      --fill-color: #D2E3FC;\n",
              "      --hover-bg-color: #434B5C;\n",
              "      --hover-fill-color: #FFFFFF;\n",
              "      --disabled-bg-color: #3B4455;\n",
              "      --disabled-fill-color: #666;\n",
              "  }\n",
              "\n",
              "  .colab-df-quickchart {\n",
              "    background-color: var(--bg-color);\n",
              "    border: none;\n",
              "    border-radius: 50%;\n",
              "    cursor: pointer;\n",
              "    display: none;\n",
              "    fill: var(--fill-color);\n",
              "    height: 32px;\n",
              "    padding: 0;\n",
              "    width: 32px;\n",
              "  }\n",
              "\n",
              "  .colab-df-quickchart:hover {\n",
              "    background-color: var(--hover-bg-color);\n",
              "    box-shadow: 0 1px 2px rgba(60, 64, 67, 0.3), 0 1px 3px 1px rgba(60, 64, 67, 0.15);\n",
              "    fill: var(--button-hover-fill-color);\n",
              "  }\n",
              "\n",
              "  .colab-df-quickchart-complete:disabled,\n",
              "  .colab-df-quickchart-complete:disabled:hover {\n",
              "    background-color: var(--disabled-bg-color);\n",
              "    fill: var(--disabled-fill-color);\n",
              "    box-shadow: none;\n",
              "  }\n",
              "\n",
              "  .colab-df-spinner {\n",
              "    border: 2px solid var(--fill-color);\n",
              "    border-color: transparent;\n",
              "    border-bottom-color: var(--fill-color);\n",
              "    animation:\n",
              "      spin 1s steps(1) infinite;\n",
              "  }\n",
              "\n",
              "  @keyframes spin {\n",
              "    0% {\n",
              "      border-color: transparent;\n",
              "      border-bottom-color: var(--fill-color);\n",
              "      border-left-color: var(--fill-color);\n",
              "    }\n",
              "    20% {\n",
              "      border-color: transparent;\n",
              "      border-left-color: var(--fill-color);\n",
              "      border-top-color: var(--fill-color);\n",
              "    }\n",
              "    30% {\n",
              "      border-color: transparent;\n",
              "      border-left-color: var(--fill-color);\n",
              "      border-top-color: var(--fill-color);\n",
              "      border-right-color: var(--fill-color);\n",
              "    }\n",
              "    40% {\n",
              "      border-color: transparent;\n",
              "      border-right-color: var(--fill-color);\n",
              "      border-top-color: var(--fill-color);\n",
              "    }\n",
              "    60% {\n",
              "      border-color: transparent;\n",
              "      border-right-color: var(--fill-color);\n",
              "    }\n",
              "    80% {\n",
              "      border-color: transparent;\n",
              "      border-right-color: var(--fill-color);\n",
              "      border-bottom-color: var(--fill-color);\n",
              "    }\n",
              "    90% {\n",
              "      border-color: transparent;\n",
              "      border-bottom-color: var(--fill-color);\n",
              "    }\n",
              "  }\n",
              "</style>\n",
              "\n",
              "  <script>\n",
              "    async function quickchart(key) {\n",
              "      const quickchartButtonEl =\n",
              "        document.querySelector('#' + key + ' button');\n",
              "      quickchartButtonEl.disabled = true;  // To prevent multiple clicks.\n",
              "      quickchartButtonEl.classList.add('colab-df-spinner');\n",
              "      try {\n",
              "        const charts = await google.colab.kernel.invokeFunction(\n",
              "            'suggestCharts', [key], {});\n",
              "      } catch (error) {\n",
              "        console.error('Error during call to suggestCharts:', error);\n",
              "      }\n",
              "      quickchartButtonEl.classList.remove('colab-df-spinner');\n",
              "      quickchartButtonEl.classList.add('colab-df-quickchart-complete');\n",
              "    }\n",
              "    (() => {\n",
              "      let quickchartButtonEl =\n",
              "        document.querySelector('#df-81b3d60a-8600-44c7-9e01-046d0d710601 button');\n",
              "      quickchartButtonEl.style.display =\n",
              "        google.colab.kernel.accessAllowed ? 'block' : 'none';\n",
              "    })();\n",
              "  </script>\n",
              "</div>\n",
              "\n",
              "    </div>\n",
              "  </div>\n"
            ],
            "application/vnd.google.colaboratory.intrinsic+json": {
              "type": "dataframe",
              "variable_name": "baseball",
              "summary": "{\n  \"name\": \"baseball\",\n  \"rows\": 30,\n  \"fields\": [\n    {\n      \"column\": \"Team\",\n      \"properties\": {\n        \"dtype\": \"string\",\n        \"num_unique_values\": 30,\n        \"samples\": [\n          \"Texas Rangers\",\n          \"Milwaukee Brewers\",\n          \"San Francisco Giants\"\n        ],\n        \"semantic_type\": \"\",\n        \"description\": \"\"\n      }\n    },\n    {\n      \"column\": \"League\",\n      \"properties\": {\n        \"dtype\": \"category\",\n        \"num_unique_values\": 2,\n        \"samples\": [\n          \"American\",\n          \"National\"\n        ],\n        \"semantic_type\": \"\",\n        \"description\": \"\"\n      }\n    },\n    {\n      \"column\": \"Year Stadium Opened\",\n      \"properties\": {\n        \"dtype\": \"number\",\n        \"std\": 25,\n        \"min\": 1912,\n        \"max\": 2017,\n        \"num_unique_values\": 23,\n        \"samples\": [\n          2010,\n          2000\n        ],\n        \"semantic_type\": \"\",\n        \"description\": \"\"\n      }\n    },\n    {\n      \"column\": \"Team Salary ($ mil)\",\n      \"properties\": {\n        \"dtype\": \"number\",\n        \"std\": 60.17209174474434,\n        \"min\": 24.555,\n        \"max\": 234.35,\n        \"num_unique_values\": 30,\n        \"samples\": [\n          101.308,\n          117.339\n        ],\n        \"semantic_type\": \"\",\n        \"description\": \"\"\n      }\n    },\n    {\n      \"column\": \"Attendance\",\n      \"properties\": {\n        \"dtype\": \"number\",\n        \"std\": 773722,\n        \"min\": 787902,\n        \"max\": 3861408,\n        \"num_unique_values\": 30,\n        \"samples\": [\n          2011381,\n          2412420\n        ],\n        \"semantic_type\": \"\",\n        \"description\": \"\"\n      }\n    },\n    {\n      \"column\": \"Wins\",\n      \"properties\": {\n        \"dtype\": \"number\",\n        \"std\": 14,\n        \"min\": 55,\n        \"max\": 111,\n        \"num_unique_values\": 22,\n        \"samples\": [\n          74,\n          69\n        ],\n        \"semantic_type\": \"\",\n        \"description\": \"\"\n      }\n    },\n    {\n      \"column\": \"ERA\",\n      \"properties\": {\n        \"dtype\": \"number\",\n        \"std\": 0.5591787903168627,\n        \"min\": 2.8,\n        \"max\": 5.06,\n        \"num_unique_values\": 27,\n        \"samples\": [\n          4.04,\n          3.87\n        ],\n        \"semantic_type\": \"\",\n        \"description\": \"\"\n      }\n    },\n    {\n      \"column\": \"BA\",\n      \"properties\": {\n        \"dtype\": \"number\",\n        \"std\": 0.011943785957078507,\n        \"min\": 0.216,\n        \"max\": 0.264,\n        \"num_unique_values\": 22,\n        \"samples\": [\n          0.23,\n          0.259\n        ],\n        \"semantic_type\": \"\",\n        \"description\": \"\"\n      }\n    },\n    {\n      \"column\": \"HR\",\n      \"properties\": {\n        \"dtype\": \"number\",\n        \"std\": 34,\n        \"min\": 110,\n        \"max\": 254,\n        \"num_unique_values\": 27,\n        \"samples\": [\n          110,\n          144\n        ],\n        \"semantic_type\": \"\",\n        \"description\": \"\"\n      }\n    },\n    {\n      \"column\": \"Net worth ($ billions)\",\n      \"properties\": {\n        \"dtype\": \"number\",\n        \"std\": 1.14006533388102,\n        \"min\": 0.99,\n        \"max\": 6.0,\n        \"num_unique_values\": 30,\n        \"samples\": [\n          2.05,\n          1.28\n        ],\n        \"semantic_type\": \"\",\n        \"description\": \"\"\n      }\n    },\n    {\n      \"column\": \"2022 Playoffs\",\n      \"properties\": {\n        \"dtype\": \"number\",\n        \"std\": 0,\n        \"min\": 0,\n        \"max\": 1,\n        \"num_unique_values\": 2,\n        \"samples\": [\n          1,\n          0\n        ],\n        \"semantic_type\": \"\",\n        \"description\": \"\"\n      }\n    }\n  ]\n}"
            }
          },
          "metadata": {},
          "execution_count": 25
        }
      ]
    },
    {
      "cell_type": "markdown",
      "source": [
        "#Funciones\n",
        "\n",
        "Al tener una σ desconocida, lo ideal es utilizar la distribución t para calcular el intervalo de confianza, sin embargo, también es posible utilizar una distribución normal dado que n=≥30\n",
        "\n",
        "**Funciones**\n",
        "1. intervalo_confianza_z\n",
        "2. intervalo_confianza_t\n",
        "\n",
        "**Resultado de las funciones son dos cosas**\n",
        "- El intervalo\n",
        "- El valor de Z"
      ],
      "metadata": {
        "id": "-Spgh-x-5ejW"
      }
    },
    {
      "cell_type": "code",
      "source": [
        "# función para calcular el intervalo de confianza Z\n",
        "def intervalo_confianza_z(media, desviacion_estandar_poblacional, n, confianza):\n",
        "  \"\"\"\n",
        "  Calcula el intervalo de confianza para una distribución normal Z.\n",
        "  \"\"\"\n",
        "  error_estandar = desviacion_estandar_poblacional / np.sqrt(n)\n",
        "  valor_critico = st.norm.ppf((1 + confianza) / 2) #valor de z\n",
        "  margen_error = valor_critico * error_estandar\n",
        "  intervalo_confianza = (media - margen_error, media + margen_error)\n",
        "  return print(\"El intervalo es:\", intervalo_confianza, \"Con un valor Z de:\",valor_critico)\n",
        "\n",
        "def intervalo_confianza_t(media, desviacion_estandar_poblacional, n, confianza):\n",
        "  \"\"\"\n",
        "  Calcula el intervalo de confianza para una distribución normal Z.\n",
        "  \"\"\"\n",
        "  error_estandar = desviacion_estandar_poblacional / np.sqrt(n)\n",
        "  valor_critico = t.ppf((1+0.95)/2, n-1) #valor de z\n",
        "  margen_error = valor_critico * error_estandar\n",
        "  intervalo_confianza = (media - margen_error, media + margen_error)\n",
        "  return print(\"El intervalo es:\", intervalo_confianza, \"Con un valor t de:\",valor_critico)\n"
      ],
      "metadata": {
        "id": "MnxA835_4OBA"
      },
      "execution_count": 26,
      "outputs": []
    },
    {
      "cell_type": "markdown",
      "source": [
        "## 1. Obtenga un intervalo de confianza de 95% para la media de homeruns por equipo\n",
        "\n",
        "se usa la distribución normal z, porque n >= 30"
      ],
      "metadata": {
        "id": "RhE3xVeB1Z6Z"
      }
    },
    {
      "cell_type": "code",
      "source": [
        "# ¿Promedio de los HR?\n",
        "media_hr = baseball['HR'].mean()\n",
        "media_hr"
      ],
      "metadata": {
        "colab": {
          "base_uri": "https://localhost:8080/"
        },
        "id": "HXBSP-4905BF",
        "outputId": "0217723f-751d-4977-fc2e-6b548ef40e42"
      },
      "execution_count": 28,
      "outputs": [
        {
          "output_type": "execute_result",
          "data": {
            "text/plain": [
              "173.83333333333334"
            ]
          },
          "metadata": {},
          "execution_count": 28
        }
      ]
    },
    {
      "cell_type": "code",
      "source": [
        "#¿La desv estándar de los HR?\n",
        "desv_std_hr = baseball['HR'].std()\n",
        "desv_std_hr"
      ],
      "metadata": {
        "colab": {
          "base_uri": "https://localhost:8080/"
        },
        "id": "Kd3DGchQ2EIb",
        "outputId": "51adfb0c-bb87-4447-9057-413d988a9538"
      },
      "execution_count": 29,
      "outputs": [
        {
          "output_type": "execute_result",
          "data": {
            "text/plain": [
              "34.87325161439523"
            ]
          },
          "metadata": {},
          "execution_count": 29
        }
      ]
    },
    {
      "cell_type": "code",
      "source": [
        "# tamaño de la muestra\n",
        "# este tamaño de muestra se utiliza en los otros dos problemas!\n",
        "# con la función t student n = n-1 automáticamente\n",
        "n = baseball['HR'].count()\n",
        "n"
      ],
      "metadata": {
        "colab": {
          "base_uri": "https://localhost:8080/"
        },
        "id": "W1CuRmHB3AzY",
        "outputId": "e3855fdd-14a2-4e4f-f63c-dbe7669cce05"
      },
      "execution_count": 30,
      "outputs": [
        {
          "output_type": "execute_result",
          "data": {
            "text/plain": [
              "30"
            ]
          },
          "metadata": {},
          "execution_count": 30
        }
      ]
    },
    {
      "cell_type": "markdown",
      "source": [
        "##Respuesta"
      ],
      "metadata": {
        "id": "p3N6B5H42OfD"
      }
    },
    {
      "cell_type": "code",
      "source": [
        "# Calcula el intervalo de confianza\n",
        "intervalo_t = intervalo_confianza_t(media_hr, desv_std_hr, n, confianza=0.95)\n",
        "intervalo_t\n"
      ],
      "metadata": {
        "colab": {
          "base_uri": "https://localhost:8080/"
        },
        "id": "UCUTWwWO3mD4",
        "outputId": "1fa73425-422e-4eec-9d7e-8c4de4afbfd7"
      },
      "execution_count": 38,
      "outputs": [
        {
          "output_type": "stream",
          "name": "stdout",
          "text": [
            "El intervalo es: (160.81144717180885, 186.85521949485783) Con un valor t de: 2.045229642132703\n"
          ]
        }
      ]
    },
    {
      "cell_type": "code",
      "source": [
        "# Calcula el intervalo de confianza\n",
        "intervalo_z = intervalo_confianza_z(media_hr, desv_std_hr, n, confianza=0.95)\n",
        "intervalo_z"
      ],
      "metadata": {
        "colab": {
          "base_uri": "https://localhost:8080/"
        },
        "id": "4ALHybnb2I8h",
        "outputId": "e5d172ee-7993-443f-ebd2-cebe8984acc5"
      },
      "execution_count": 42,
      "outputs": [
        {
          "output_type": "stream",
          "name": "stdout",
          "text": [
            "El intervalo es: (161.35432982116316, 186.31233684550352) Con un valor Z de: 1.959963984540054\n"
          ]
        }
      ]
    },
    {
      "cell_type": "markdown",
      "source": [
        "##2. Obtenga un intervalo de confianza del 95% para la media del promedio de bateo de los equipos de la liga"
      ],
      "metadata": {
        "id": "cINkp7ooIX4R"
      }
    },
    {
      "cell_type": "code",
      "source": [
        "# ¿Promedio de los HR?\n",
        "media_ba = baseball['BA'].mean()\n",
        "media_ba"
      ],
      "metadata": {
        "colab": {
          "base_uri": "https://localhost:8080/"
        },
        "id": "eT1cbym547_-",
        "outputId": "4eb0a037-7f39-4db6-9dd2-c74d4b3a8846"
      },
      "execution_count": 32,
      "outputs": [
        {
          "output_type": "execute_result",
          "data": {
            "text/plain": [
              "0.24263333333333334"
            ]
          },
          "metadata": {},
          "execution_count": 32
        }
      ]
    },
    {
      "cell_type": "code",
      "source": [
        "#¿La desv estándar de los HR?\n",
        "desv_std_ba = baseball['BA'].std()\n",
        "desv_std_ba"
      ],
      "metadata": {
        "colab": {
          "base_uri": "https://localhost:8080/"
        },
        "id": "DRiq6EMQI9YI",
        "outputId": "6fae91cf-4e91-4ba7-d4a5-11ff25a4ccdf"
      },
      "execution_count": 33,
      "outputs": [
        {
          "output_type": "execute_result",
          "data": {
            "text/plain": [
              "0.011943785957078507"
            ]
          },
          "metadata": {},
          "execution_count": 33
        }
      ]
    },
    {
      "cell_type": "markdown",
      "source": [
        "##Respuesta"
      ],
      "metadata": {
        "id": "UDBK9_Ob2Ss2"
      }
    },
    {
      "cell_type": "code",
      "source": [
        "# Calcula el intervalo de confianza\n",
        "intervalo_t = intervalo_confianza_t(media_ba, desv_std_ba, n, confianza=0.95)\n",
        "intervalo_t"
      ],
      "metadata": {
        "colab": {
          "base_uri": "https://localhost:8080/"
        },
        "id": "jiDLninAJHY_",
        "outputId": "ac8a711c-7ebc-4978-9f59-667ea73a66a6"
      },
      "execution_count": 39,
      "outputs": [
        {
          "output_type": "stream",
          "name": "stdout",
          "text": [
            "El intervalo es: (0.238173450360835, 0.24709321630583167) Con un valor t de: 2.045229642132703\n"
          ]
        }
      ]
    },
    {
      "cell_type": "code",
      "source": [
        "# Calcula el intervalo de confianza\n",
        "intervalo_z = intervalo_confianza_z(media_ba, desv_std_ba, n, confianza=0.95)\n",
        "intervalo_z"
      ],
      "metadata": {
        "colab": {
          "base_uri": "https://localhost:8080/"
        },
        "id": "xFor-rjm2WxA",
        "outputId": "5966ad01-9fc1-41e6-e484-c8d8e6a565a2"
      },
      "execution_count": 43,
      "outputs": [
        {
          "output_type": "stream",
          "name": "stdout",
          "text": [
            "El intervalo es: (0.23835938295569012, 0.24690728371097656) Con un valor Z de: 1.959963984540054\n"
          ]
        }
      ]
    },
    {
      "cell_type": "markdown",
      "source": [
        "##3. Obtenga un intervalo de confianza del 95% para la media de carreras obtenidas por los equipo de la liga"
      ],
      "metadata": {
        "id": "nl_cgdX1InXK"
      }
    },
    {
      "cell_type": "code",
      "source": [
        "# ¿Promedio de los HR?\n",
        "media_wins = baseball['ERA'].mean()\n",
        "media_wins"
      ],
      "metadata": {
        "colab": {
          "base_uri": "https://localhost:8080/"
        },
        "outputId": "486d7ade-a01b-443c-e92e-6547caa0e1aa",
        "id": "WSbO5yDMKQrW"
      },
      "execution_count": 35,
      "outputs": [
        {
          "output_type": "execute_result",
          "data": {
            "text/plain": [
              "3.9653333333333336"
            ]
          },
          "metadata": {},
          "execution_count": 35
        }
      ]
    },
    {
      "cell_type": "code",
      "source": [
        "#¿La desv estándar de los HR?\n",
        "desv_std_wins = baseball['ERA'].std()\n",
        "desv_std_wins"
      ],
      "metadata": {
        "colab": {
          "base_uri": "https://localhost:8080/"
        },
        "id": "yxwk8pESKd4L",
        "outputId": "5e891846-a456-4bca-95d4-bfa157ac0702"
      },
      "execution_count": 36,
      "outputs": [
        {
          "output_type": "execute_result",
          "data": {
            "text/plain": [
              "0.5591787903168627"
            ]
          },
          "metadata": {},
          "execution_count": 36
        }
      ]
    },
    {
      "cell_type": "markdown",
      "source": [
        "##Respuesta"
      ],
      "metadata": {
        "id": "HZVwAWGj2dIF"
      }
    },
    {
      "cell_type": "code",
      "source": [
        "# Calcula el intervalo de confianza\n",
        "intervalo_t = intervalo_confianza_t(media_wins, desv_std_wins, n, confianza=0.95)\n",
        "intervalo_t"
      ],
      "metadata": {
        "colab": {
          "base_uri": "https://localhost:8080/"
        },
        "id": "F7wE7EcMKbqj",
        "outputId": "ef1fd180-ebaa-4b34-f31f-c6c1579fa29f"
      },
      "execution_count": 40,
      "outputs": [
        {
          "output_type": "stream",
          "name": "stdout",
          "text": [
            "El intervalo es: (3.7565325414840465, 4.174134125182621) Con un valor t de: 2.045229642132703\n"
          ]
        }
      ]
    },
    {
      "cell_type": "code",
      "source": [
        "# Calcula el intervalo de confianza\n",
        "intervalo_z = intervalo_confianza_z(media_wins, desv_std_wins, n, confianza=0.95)\n",
        "intervalo_z"
      ],
      "metadata": {
        "colab": {
          "base_uri": "https://localhost:8080/"
        },
        "id": "xr0iVjaU1Zk7",
        "outputId": "e29f82f9-7b1c-449b-f704-0ec7b5a34651"
      },
      "execution_count": 44,
      "outputs": [
        {
          "output_type": "stream",
          "name": "stdout",
          "text": [
            "El intervalo es: (3.7652374499481787, 4.165429216718489) Con un valor Z de: 1.959963984540054\n"
          ]
        }
      ]
    },
    {
      "cell_type": "code",
      "source": [],
      "metadata": {
        "id": "TvEY74M72g6D"
      },
      "execution_count": null,
      "outputs": []
    }
  ]
}