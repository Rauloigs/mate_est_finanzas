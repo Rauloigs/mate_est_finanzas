{
  "cells": [
    {
      "cell_type": "markdown",
      "metadata": {
        "id": "view-in-github",
        "colab_type": "text"
      },
      "source": [
        "<a href=\"https://colab.research.google.com/github/Rauloigs/mate_est_finanzas/blob/main/tarea_1.ipynb\" target=\"_parent\"><img src=\"https://colab.research.google.com/assets/colab-badge.svg\" alt=\"Open In Colab\"/></a>"
      ]
    },
    {
      "cell_type": "code",
      "execution_count": null,
      "id": "5855951a",
      "metadata": {
        "id": "5855951a"
      },
      "outputs": [],
      "source": [
        "import pandas as pd\n",
        "import numpy as np\n",
        "import math"
      ]
    },
    {
      "cell_type": "markdown",
      "id": "996aeea1",
      "metadata": {
        "id": "996aeea1"
      },
      "source": [
        "### Exercise 1\n",
        "A sum of 9,000 paid into a bank account for two months (61 days) to attract simple interest will produce 9, 020 at the end of the term. Find the interest rate r and the return on this investment.\n",
        "\n",
        "V(t) = $P*(1+r/m)$\n",
        "\n",
        "P = $9000$\n",
        "\n",
        "$V(t) = 9020 = P(1+(61/360)*r)$\n",
        "\n",
        "$r = (365/61)((9020/900)-1)$\n",
        "\n",
        "Rendimiento\n",
        "\n",
        "$K(s,t) = (V(t)-V(s)/ V(s))$"
      ]
    },
    {
      "cell_type": "code",
      "execution_count": null,
      "id": "d3687766",
      "metadata": {
        "id": "d3687766",
        "outputId": "77d2fb52-fada-47e9-cdeb-5c4b1a996618"
      },
      "outputs": [
        {
          "name": "stdout",
          "output_type": "stream",
          "text": [
            "interest rate is: 1.31%\n"
          ]
        }
      ],
      "source": [
        "print(f\"interest rate is: {round((360/61)*((9020/9000)-1)*100,2)}%\")"
      ]
    },
    {
      "cell_type": "code",
      "execution_count": null,
      "id": "4b4c3616",
      "metadata": {
        "id": "4b4c3616",
        "outputId": "e3196f8e-6845-4720-82a5-6b517a3438ac"
      },
      "outputs": [
        {
          "name": "stdout",
          "output_type": "stream",
          "text": [
            "the return is: 0.22%\n"
          ]
        }
      ],
      "source": [
        "print(f\"the return is: {round((9020-9000)/9000*100, 2)}%\")"
      ]
    },
    {
      "cell_type": "markdown",
      "id": "43974a81",
      "metadata": {
        "id": "43974a81"
      },
      "source": [
        "### Exercise 2\n",
        "How much would you pay today to receive 1, 000 at a certain future date if you require a return of 2% ? Note: It is not necessary to know the period of time because you have the return (2%)\n",
        "\n",
        "V(t) = 1,000\n",
        "\n",
        "r = 2%\n",
        "\n",
        "V(t) = $P*(1+r/m)$\n",
        "\n",
        "P = $V(t) / (1+r/m) $\n"
      ]
    },
    {
      "cell_type": "code",
      "execution_count": null,
      "id": "a1f59135",
      "metadata": {
        "id": "a1f59135",
        "outputId": "b3549d13-a695-413a-81ae-613dab74eda0"
      },
      "outputs": [
        {
          "data": {
            "text/plain": [
              "980.39"
            ]
          },
          "execution_count": 47,
          "metadata": {},
          "output_type": "execute_result"
        }
      ],
      "source": [
        "round(1000/(1+0.02),2)"
      ]
    },
    {
      "cell_type": "markdown",
      "id": "98a6564d",
      "metadata": {
        "id": "98a6564d"
      },
      "source": [
        "### Exercise 3\n",
        "How long will it take for a sum of 800 attracting simple interest to become $830 if the rate is 9%? Compute the return on this investment.\n",
        "\n",
        "$V(t)=P(1+(r/m))$\n",
        "\n",
        "V(t) = 830\n",
        "\n",
        "P = 800\n",
        "\n",
        "r = 9%\n",
        "\n",
        "m = 12\n",
        "\n",
        "1... $V(t) = P+P(rt/12)$\n",
        "\n",
        "2... $t = (V(t) - P)/(Pr)*12$\n",
        "\n"
      ]
    },
    {
      "cell_type": "code",
      "execution_count": null,
      "id": "59f9ce7e",
      "metadata": {
        "id": "59f9ce7e",
        "outputId": "4501d503-abc0-46a1-9810-145952646732"
      },
      "outputs": [
        {
          "name": "stdout",
          "output_type": "stream",
          "text": [
            "tiempo = 5.04 meses\n"
          ]
        }
      ],
      "source": [
        "# 2...\n",
        "print(f\"tiempo = {round((830-800)/(800*0.09),2)*12} meses\")"
      ]
    },
    {
      "cell_type": "markdown",
      "id": "f42aff73",
      "metadata": {
        "id": "f42aff73"
      },
      "source": [
        "Rendimiento\n",
        "\n",
        "$K(s,t) = (V(t)-V(s)/ V(s))$\n",
        "\n",
        "$V(s)$ es valor inicial\n"
      ]
    },
    {
      "cell_type": "code",
      "execution_count": null,
      "id": "065a6431",
      "metadata": {
        "id": "065a6431",
        "outputId": "4afe63cc-f371-4865-d0ee-1d550b193bce"
      },
      "outputs": [
        {
          "name": "stdout",
          "output_type": "stream",
          "text": [
            "Rendimiento: 3.75%\n"
          ]
        }
      ],
      "source": [
        "print(f\"Rendimiento: {(830-800)/(800)*100}%\")"
      ]
    },
    {
      "cell_type": "markdown",
      "id": "f072ea61",
      "metadata": {
        "id": "f072ea61"
      },
      "source": [
        "### Exercise 4\n",
        "Find the principal to be deposited initially in an account attracting simple interest at a rate of 8% if 1, 000 is needed after three months (91 days).\n",
        "\n",
        "$V(t)=P(1+(rt/m))$\n",
        "\n",
        "$P = ?$\n",
        "\n",
        "$r = 0.08$\n",
        "\n",
        "$V(t) = 1,000$\n",
        "\n",
        "$t/m = 91/365$\n",
        "\n",
        "1... $1,000 = P*(1+(0.08*(91/365)))$\n"
      ]
    },
    {
      "cell_type": "code",
      "execution_count": null,
      "id": "f4893ad9",
      "metadata": {
        "id": "f4893ad9",
        "outputId": "d082659e-7c10-4139-b5db-3b2b414d0c47"
      },
      "outputs": [
        {
          "data": {
            "text/plain": [
              "1.019945205479452"
            ]
          },
          "execution_count": 50,
          "metadata": {},
          "output_type": "execute_result"
        }
      ],
      "source": [
        "value_ex4 = (1+(0.08*(91/365)))\n",
        "value_ex4"
      ]
    },
    {
      "cell_type": "markdown",
      "id": "71fd9c91",
      "metadata": {
        "id": "71fd9c91"
      },
      "source": [
        "2... $1,000 = P*(1.01994)$\n",
        "\n",
        "3... $P = 1,000/1.01994$"
      ]
    },
    {
      "cell_type": "code",
      "execution_count": null,
      "id": "0bbc2dd7",
      "metadata": {
        "id": "0bbc2dd7",
        "outputId": "2c06edb8-f9eb-4215-91e3-b0b8ac1b46a5"
      },
      "outputs": [
        {
          "name": "stdout",
          "output_type": "stream",
          "text": [
            "The principal is: 980.44\n"
          ]
        }
      ],
      "source": [
        "print(f\"The principal is: {round(1000/value_ex4,2)}\")"
      ]
    },
    {
      "cell_type": "markdown",
      "id": "5ab8aea4",
      "metadata": {
        "id": "5ab8aea4"
      },
      "source": [
        "### Exercise 5\n",
        "Find and compare the future value after two years of a deposit of 100 attracting interest at a rate of 10% compounded a) annually and b) semi-annually.\n",
        "\n",
        "$V(t)=P(1+(r/m))^{tm}$\n",
        "\n",
        "$P=100$\n",
        "\n",
        "$r=0.10$\n",
        "\n",
        "a) $t/m = (1/1) = 1$\n",
        "\n",
        "b) $t/m = 1/2 = 0.5$\n"
      ]
    },
    {
      "cell_type": "code",
      "execution_count": null,
      "id": "6891da31",
      "metadata": {
        "id": "6891da31",
        "outputId": "eb8dba6b-5c99-44b6-bd07-77dcc4bc09c1"
      },
      "outputs": [
        {
          "data": {
            "text/plain": [
              "121.0"
            ]
          },
          "execution_count": 52,
          "metadata": {},
          "output_type": "execute_result"
        }
      ],
      "source": [
        "# a)\n",
        "round(100*(1+(0.1*1))**(2*1),2)"
      ]
    },
    {
      "cell_type": "code",
      "execution_count": null,
      "id": "7969770d",
      "metadata": {
        "id": "7969770d",
        "outputId": "1743a96b-eeef-4724-d151-b8f24e8b1549"
      },
      "outputs": [
        {
          "data": {
            "text/plain": [
              "121.55"
            ]
          },
          "execution_count": 84,
          "metadata": {},
          "output_type": "execute_result"
        }
      ],
      "source": [
        "# b)\n",
        "round(100*(1+(0.1/2))**(2*2),2)"
      ]
    },
    {
      "cell_type": "markdown",
      "id": "0131460d",
      "metadata": {
        "id": "0131460d"
      },
      "source": [
        "### Exercise 6\n",
        "Which will deliver a higher future value after one year, a deposit of 1, 000 attracting interest at 15% compounded daily, or at 15.5% compounded semiannually?\n",
        "\n",
        "$V(t)=P(1+(rt/m))^{tm}$\n"
      ]
    },
    {
      "cell_type": "code",
      "execution_count": null,
      "id": "43a0fd5f",
      "metadata": {
        "id": "43a0fd5f"
      },
      "outputs": [],
      "source": [
        "p=1000\n",
        "r_daily=0.15\n",
        "m_daily=365\n",
        "r_semianually=0.155\n",
        "m_semianually=2\n",
        "t=1"
      ]
    },
    {
      "cell_type": "code",
      "execution_count": null,
      "id": "7e927212",
      "metadata": {
        "id": "7e927212"
      },
      "outputs": [],
      "source": [
        "daily=p*(1+r_daily*(t/m_daily))**(m_daily)\n",
        "semi_anually = p*(1+r_semianually*(t/m_semianually))**(m_semianually)"
      ]
    },
    {
      "cell_type": "code",
      "execution_count": null,
      "id": "7c412f73",
      "metadata": {
        "id": "7c412f73",
        "outputId": "e030f7e5-f715-43d4-b49b-7fdf866a7373"
      },
      "outputs": [
        {
          "name": "stdout",
          "output_type": "stream",
          "text": [
            "Future Value semiannually compunded is:$1,161.01\n",
            "\n",
            "Future Value daily compunded is:$1,161.80 there for it delivers higher value\n"
          ]
        }
      ],
      "source": [
        "print(f\"Future Value semiannually compunded is:${f'{semi_anually:,.2f}'}\\n\")\n",
        "print(f\"Future Value daily compunded is:${f'{daily:,.2f}'} there for it delivers higher value\")"
      ]
    },
    {
      "cell_type": "markdown",
      "id": "ae51ed2f",
      "metadata": {
        "id": "ae51ed2f"
      },
      "source": [
        "### Exercise 7\n",
        "What initial investment subject to annual compounding at 12% is needed to produce $1,000 after two years?\n",
        "\n",
        "$V(t)=P(1+(rt/m))^{tm}$\n",
        "\n",
        "$P=[V(t)]/[(1+(r/m))^{tm}]$\n",
        "\n",
        "$P = ?$"
      ]
    },
    {
      "cell_type": "code",
      "execution_count": null,
      "id": "f4a90b32",
      "metadata": {
        "id": "f4a90b32"
      },
      "outputs": [],
      "source": [
        "# datos\n",
        "v_t=1000\n",
        "t=2\n",
        "m=1\n",
        "r=0.12"
      ]
    },
    {
      "cell_type": "code",
      "execution_count": null,
      "id": "20a5b0fe",
      "metadata": {
        "id": "20a5b0fe",
        "outputId": "a1f3bbd9-fe80-4bcb-cbc1-b6dbd7c75c5d"
      },
      "outputs": [
        {
          "name": "stdout",
          "output_type": "stream",
          "text": [
            "$797.19\n"
          ]
        }
      ],
      "source": [
        "p = (v_t)/(1+(r/m))**(t*m)\n",
        "print(f\"{f'${p:,.2f}'}\")"
      ]
    },
    {
      "cell_type": "markdown",
      "id": "fd8592d8",
      "metadata": {
        "id": "fd8592d8"
      },
      "source": [
        "## Exercise 8\n",
        "Find the present value of 100, 000 to be received after 100 years if the interest rate is assumed to be 5% throughout the whole period and a) daily or b) annual compounding applies.\n",
        "\n",
        "$P=[V(t)]/[(1+(r/m))^{tm}]$\n",
        "\n"
      ]
    },
    {
      "cell_type": "code",
      "execution_count": null,
      "id": "daa90d23",
      "metadata": {
        "id": "daa90d23"
      },
      "outputs": [],
      "source": [
        "t=100\n",
        "v_t=100000\n",
        "r=0.05\n",
        "#m_daily already declared, but want to have visibility...\n",
        "m_daily=365\n",
        "m_annual=1"
      ]
    },
    {
      "cell_type": "code",
      "execution_count": null,
      "id": "22452649",
      "metadata": {
        "id": "22452649",
        "outputId": "28198268-4caa-4789-d7e7-6c170f8b011d"
      },
      "outputs": [
        {
          "name": "stdout",
          "output_type": "stream",
          "text": [
            "The daily compunded Present Value is: $674.03\n"
          ]
        }
      ],
      "source": [
        "# a) daily\n",
        "p = (v_t)/(1+(r/m_daily))**(t*m_daily)\n",
        "print(f\"The daily compunded Present Value is: ${round(p,2)}\")"
      ]
    },
    {
      "cell_type": "code",
      "execution_count": null,
      "id": "ad7ea3a6",
      "metadata": {
        "id": "ad7ea3a6",
        "outputId": "44f813c6-a368-4b6d-8cc3-6c464bcb47b7"
      },
      "outputs": [
        {
          "name": "stdout",
          "output_type": "stream",
          "text": [
            "The annual compunded Present Value is: $760.45\n"
          ]
        }
      ],
      "source": [
        "# b) annual\n",
        "p = (v_t)/(1+(r/m_annual))**(t*m_annual)\n",
        "print(f\"The annual compunded Present Value is: ${round(p,2)}\")"
      ]
    },
    {
      "cell_type": "markdown",
      "id": "56edaae8",
      "metadata": {
        "id": "56edaae8"
      },
      "source": [
        "## Exercise 9\n",
        "Find the return over one year under monthly compounding with r = 10%."
      ]
    },
    {
      "cell_type": "code",
      "execution_count": null,
      "id": "6436e821",
      "metadata": {
        "id": "6436e821"
      },
      "outputs": [],
      "source": [
        "t=1\n",
        "m=12\n",
        "p=1\n",
        "r=0.1"
      ]
    },
    {
      "cell_type": "markdown",
      "id": "188ae06f",
      "metadata": {
        "id": "188ae06f"
      },
      "source": [
        "Asumiendo que $1 es nuestro P hay que obtener V(t)\n",
        "\n",
        "$V(t)=P(1+(r/m))^{tm}$"
      ]
    },
    {
      "cell_type": "code",
      "execution_count": null,
      "id": "6c3e4c94",
      "metadata": {
        "id": "6c3e4c94",
        "outputId": "e4823b8b-0854-4392-a634-592971378f71"
      },
      "outputs": [
        {
          "name": "stdout",
          "output_type": "stream",
          "text": [
            "The final value V(t) is: $1.105\n"
          ]
        }
      ],
      "source": [
        "v_t=p*(1+(r/m))**(t*m)\n",
        "print(f\"The final value V(t) is: ${round(v_t,3)}\")"
      ]
    },
    {
      "cell_type": "markdown",
      "id": "088776b5",
      "metadata": {
        "id": "088776b5"
      },
      "source": [
        "Rendimiento\n",
        "\n",
        "$K(s,t) = (V(t)-V(s)/ V(s))$\n",
        "\n",
        "Para nuestro caso $p=V(s)$"
      ]
    },
    {
      "cell_type": "code",
      "execution_count": null,
      "id": "a08f994a",
      "metadata": {
        "id": "a08f994a",
        "outputId": "bad68a67-ff33-45fe-92ef-095409a0d3ec"
      },
      "outputs": [
        {
          "name": "stdout",
          "output_type": "stream",
          "text": [
            "The return is: 10.47%\n"
          ]
        }
      ],
      "source": [
        "v_s=p\n",
        "\n",
        "k_st=(v_t-v_s)/(v_s)*100\n",
        "print(f\"The return is: {round(k_st,2)}%\")"
      ]
    },
    {
      "cell_type": "markdown",
      "id": "c6c3d3cf",
      "metadata": {
        "id": "c6c3d3cf"
      },
      "source": [
        "### *Example of Annuity from Class*\n",
        "\n",
        "Consider a loan of $1, 000 to be paid back in 5 equal instalments due at yearly intervals. The instalments include both the interest payable each year calculated at 15% of the current outstanding balance and the repayment of a fraction of the loan. A loan of this type is called an amortised loan. The amount of each instalment can be computed as\n",
        " 1, 000/PA(15%, 5)= 298.32. This is because the loan is equivalent to an annuity from the point of view of the lender.\n",
        "\n",
        " $VP=A*[(1-(1+r)^(-n))/r]$"
      ]
    },
    {
      "cell_type": "code",
      "execution_count": null,
      "id": "b97d65b2",
      "metadata": {
        "id": "b97d65b2"
      },
      "outputs": [],
      "source": [
        "n=5\n",
        "r=0.15\n",
        "p=1000"
      ]
    },
    {
      "cell_type": "code",
      "execution_count": null,
      "id": "7c3f4135",
      "metadata": {
        "id": "7c3f4135",
        "outputId": "97ffcb66-f303-4f76-e61d-f401184fb7bb"
      },
      "outputs": [
        {
          "data": {
            "text/plain": [
              "3.352155098011401"
            ]
          },
          "execution_count": 66,
          "metadata": {},
          "output_type": "execute_result"
        }
      ],
      "source": [
        "# Solving for the right side...to get VP = A * x, where x is:\n",
        "x=((1-(1+r)**(-n))/r)\n",
        "x"
      ]
    },
    {
      "cell_type": "code",
      "execution_count": null,
      "id": "9c708967",
      "metadata": {
        "id": "9c708967",
        "outputId": "11cf9087-aec3-42fc-8bee-4cfd60248b23"
      },
      "outputs": [
        {
          "data": {
            "text/plain": [
              "298.32"
            ]
          },
          "execution_count": 67,
          "metadata": {},
          "output_type": "execute_result"
        }
      ],
      "source": [
        "# Solving for Annuity\n",
        "annuity=p/x\n",
        "round(annuity,2)"
      ]
    },
    {
      "cell_type": "code",
      "execution_count": null,
      "id": "680c8fe5",
      "metadata": {
        "id": "680c8fe5",
        "outputId": "560f06fe-dba6-40bb-ba25-10b700244d3c"
      },
      "outputs": [
        {
          "data": {
            "text/plain": [
              "1491.58"
            ]
          },
          "execution_count": 68,
          "metadata": {},
          "output_type": "execute_result"
        }
      ],
      "source": [
        "# VF after 5 years\n",
        "round(annuity*5,2)"
      ]
    },
    {
      "cell_type": "markdown",
      "id": "230d03e0",
      "metadata": {
        "id": "230d03e0"
      },
      "source": [
        "## Exercise 10\n",
        "How much can you borrow if the interest rate is 18%, you can afford to pay $10, 000 at the end of each year, and you want to clear the loan in 10 years?\n",
        "\n",
        "$PA(r, n) = (1 − (1 + r)^{-n})/ r$\n",
        "\n",
        "or... $VP=A*[(1-(1+r)^{-n})/r]$\n"
      ]
    },
    {
      "cell_type": "code",
      "execution_count": null,
      "id": "8020be61",
      "metadata": {
        "id": "8020be61"
      },
      "outputs": [],
      "source": [
        "annuity=10000\n",
        "r=0.18\n",
        "n=10\n",
        "# VP=?"
      ]
    },
    {
      "cell_type": "code",
      "execution_count": null,
      "id": "ab1ba380",
      "metadata": {
        "id": "ab1ba380",
        "outputId": "aa156576-29e7-4939-8ee2-87a5d425ab5d"
      },
      "outputs": [
        {
          "name": "stdout",
          "output_type": "stream",
          "text": [
            "You can borrow: $44,940.86\n"
          ]
        }
      ],
      "source": [
        "vp=annuity*((1-(1+r)**(-n))/r)\n",
        "print(f\"You can borrow: ${f'{vp:,.2f}'}\")"
      ]
    },
    {
      "cell_type": "markdown",
      "id": "e105fc12",
      "metadata": {
        "id": "e105fc12"
      },
      "source": [
        "### Exercise 11\n",
        "Suppose that you deposit $1, 200 at the end of each year for 40 years, subject to annual compounding at a constant rate of 5%. Find the balance after 40 years.\n",
        "\n",
        "remember the Future Value: $V(t)=P(1+(r/m))^{tm}$\n",
        "\n",
        "now, from this $VP=A*[(1-(1+r)^{-n})/r]$\n",
        "\n",
        "to this:  $VF = A*[(1+r)^n-1]/r$ ... it is basically the same"
      ]
    },
    {
      "cell_type": "code",
      "execution_count": null,
      "id": "71a91389",
      "metadata": {
        "id": "71a91389"
      },
      "outputs": [],
      "source": [
        "annuity=1200\n",
        "n=40\n",
        "r=0.05"
      ]
    },
    {
      "cell_type": "code",
      "execution_count": null,
      "id": "0e45422a",
      "metadata": {
        "id": "0e45422a",
        "outputId": "5e544775-7f8d-4b25-e6df-ea00e6eff9e9"
      },
      "outputs": [
        {
          "name": "stdout",
          "output_type": "stream",
          "text": [
            "The Balance after 40 years will be: $144,959.73\n"
          ]
        }
      ],
      "source": [
        "vf=annuity*(((1+r)**n)-1)/r\n",
        "\n",
        "print(f\"The Balance after 40 years will be: ${f'{vf:,.2f}'}\")"
      ]
    },
    {
      "cell_type": "markdown",
      "id": "1256015c",
      "metadata": {
        "id": "1256015c"
      },
      "source": [
        "### Exercise 12\n",
        "How long will it take to earn $1$ in interest if $1, 000, 000 is deposited at 10% compounded continuously?\n",
        "\n",
        "$V(t) = r*e^{tr}*P = rV (t)$\n",
        "\n",
        "$V(t) = Pe^{rt}$"
      ]
    },
    {
      "cell_type": "code",
      "execution_count": null,
      "id": "c15c7483",
      "metadata": {
        "id": "c15c7483"
      },
      "outputs": [],
      "source": [
        "r=0.1\n",
        "p=1000000\n",
        "v_t=1000000+1\n",
        "# t=?"
      ]
    },
    {
      "cell_type": "markdown",
      "id": "a14d048f",
      "metadata": {
        "id": "a14d048f"
      },
      "source": [
        "start with this: $V(t) = Pe^{rt}$\n",
        "\n",
        "1... $V(t)/ P = e^{rt}$\n",
        "\n",
        "2... $ln(V(t)/ P) = ln(e^{rt})$\n",
        "\n",
        "3... $ln(V(t)/ P) = rt*ln(e)$ ; thus $ln(e) = 1$\n",
        "\n",
        "4... $ln(V(t)/ P) = rt$\n",
        "\n",
        "5... $t = ln(V(t)/ P)/r$\n",
        "\n"
      ]
    },
    {
      "cell_type": "code",
      "execution_count": null,
      "id": "1e0ce9ec",
      "metadata": {
        "id": "1e0ce9ec",
        "outputId": "a3105d48-32d4-410b-d296-f65fdd37f216"
      },
      "outputs": [
        {
          "name": "stdout",
          "output_type": "stream",
          "text": [
            "To earn $1 with a principal of $1,000,000 it wil take: 9.999994999180667e-06, which is approximately one breath\n"
          ]
        }
      ],
      "source": [
        "t = np.log(v_t/p)/r\n",
        "print(f\"To earn $1 with a principal of $1,000,000 it wil take: {t}, which is approximately one breath\")"
      ]
    },
    {
      "cell_type": "markdown",
      "id": "ddb70e49",
      "metadata": {
        "id": "ddb70e49"
      },
      "source": [
        "### Exercise 13\n",
        "Find the rate for continuous compounding equivalent to monthly compounding at 12%.\n",
        "\n",
        "For continuous compounding will use: $V(t) = Pe^{rt}$\n",
        "\n",
        "For monthly compounding will use: $V(t)=P(1+(r/m))^{tm}$\n",
        "\n",
        "Will also use:\n",
        "\n",
        "$P=100$\n",
        "\n",
        "$t=1$\n",
        "\n"
      ]
    },
    {
      "cell_type": "markdown",
      "id": "40afa999",
      "metadata": {
        "id": "40afa999"
      },
      "source": [
        "First we should get for Monthly"
      ]
    },
    {
      "cell_type": "code",
      "execution_count": null,
      "id": "c213dad5",
      "metadata": {
        "id": "c213dad5"
      },
      "outputs": [],
      "source": [
        "m=12\n",
        "t=1\n",
        "r=0.12\n",
        "p=100"
      ]
    },
    {
      "cell_type": "code",
      "execution_count": null,
      "id": "b520c5fa",
      "metadata": {
        "id": "b520c5fa",
        "outputId": "e765a851-108e-4080-9ac3-a5e951b839ac"
      },
      "outputs": [
        {
          "name": "stdout",
          "output_type": "stream",
          "text": [
            "The future value for monthly compounded is: $112.68\n"
          ]
        }
      ],
      "source": [
        "v_t_monthly = p*(1+(r/m))**(t*m)\n",
        "print(f\"The future value for monthly compounded is: ${f'{v_t_monthly:,.2f}'}\")"
      ]
    },
    {
      "cell_type": "markdown",
      "id": "19431b21",
      "metadata": {
        "id": "19431b21"
      },
      "source": [
        "Now we need to now the \"r\" at continuos compounding under the same conditions generating that V(t), in this case *v_t_monthly*"
      ]
    },
    {
      "cell_type": "markdown",
      "id": "c79ab6fd",
      "metadata": {
        "id": "c79ab6fd"
      },
      "source": [
        "start with this: $V(t) = Pe^{rt}$\n",
        "\n",
        "1... $V(t)/ P = e^{rt}$\n",
        "\n",
        "2... $ln(V(t)/ P) = ln(e^{rt})$\n",
        "\n",
        "3... $ln(V(t)/ P) = rt*ln(e)$ ; thus $ln(e) = 1$\n",
        "\n",
        "4... $ln(V(t)/ P) = rt$\n",
        "\n",
        "5... $r = ln(V(t)/ P)/t$"
      ]
    },
    {
      "cell_type": "code",
      "execution_count": null,
      "id": "7e49ba50",
      "metadata": {
        "id": "7e49ba50",
        "outputId": "5ea50e7f-f4c4-43ff-f7dc-cf9b925eedc1"
      },
      "outputs": [
        {
          "name": "stdout",
          "output_type": "stream",
          "text": [
            "the rate for continuous compounding equivalent to monthly compounding at 12% is: 11.94%\n"
          ]
        }
      ],
      "source": [
        "r_continuos = (np.log(v_t_monthly/p)/t)*100\n",
        "print(f\"the rate for continuous compounding equivalent to monthly compounding at 12% is: {f'{r_continuos:,.2f}'}%\")"
      ]
    },
    {
      "cell_type": "markdown",
      "id": "53e6ff47",
      "metadata": {
        "id": "53e6ff47"
      },
      "source": [
        "Now justo to validate with:\n",
        "\n",
        "$V(t) = Pe^{rt}$"
      ]
    },
    {
      "cell_type": "code",
      "execution_count": null,
      "id": "471f6861",
      "metadata": {
        "id": "471f6861",
        "outputId": "912bfeff-ac45-4f81-f050-227582a087f5"
      },
      "outputs": [
        {
          "name": "stdout",
          "output_type": "stream",
          "text": [
            "With the calculated rate of: 11.94%, The Final Value is: $112.75\n",
            "The future value for monthly compounded is: $112.68\n"
          ]
        }
      ],
      "source": [
        "v_t_continuos = p*(math.e)**(r*t)\n",
        "print(f\"With the calculated rate of: {f'{r_continuos:,.2f}'}%, The Final Value is: ${f'{v_t_continuos:,.2f}'}\")\n",
        "print(f\"The future value for monthly compounded is: ${f'{v_t_monthly:,.2f}'}\")"
      ]
    },
    {
      "cell_type": "markdown",
      "id": "d0c558dc",
      "metadata": {
        "id": "d0c558dc"
      },
      "source": [
        "### Exercise 14\n",
        "Find the frequency of periodic compounding at 20% to be equivalent to annual compounding at 21%\n",
        "\n",
        "$V(t)=P(1+(r/m))^{tm}$\n",
        "\n",
        "We will assume $P=1000$"
      ]
    },
    {
      "cell_type": "code",
      "execution_count": null,
      "id": "3bdece96",
      "metadata": {
        "id": "3bdece96"
      },
      "outputs": [],
      "source": [
        "p=1000\n",
        "r_annual=0.21\n",
        "r_period=0.20\n",
        "m_annual=1\n",
        "t_annual=1"
      ]
    },
    {
      "cell_type": "markdown",
      "id": "739c5087",
      "metadata": {
        "id": "739c5087"
      },
      "source": [
        "$Annual = Periodic$\n",
        "\n",
        "$P(1+(r/m))^{tm} = P(1+(r/m))^{tm}$\n",
        "\n",
        "First lets get de V(t) annual to later get the equivalent *m*"
      ]
    },
    {
      "cell_type": "code",
      "execution_count": null,
      "id": "75db89a7",
      "metadata": {
        "id": "75db89a7",
        "outputId": "1b2b9534-2f88-411d-f80c-3f4bbb7a4fc8"
      },
      "outputs": [
        {
          "name": "stdout",
          "output_type": "stream",
          "text": [
            "The first side of the equation, which represents v(t) annual is: $1,210.00\n"
          ]
        }
      ],
      "source": [
        "v_t_annual = p*(1+(r_annual/m_annual)**(t_annual*m_annual))\n",
        "print(f\"The first side of the equation, which represents v(t) annual is: ${f'{v_t_annual:,.2f}'}\")"
      ]
    },
    {
      "cell_type": "markdown",
      "id": "47c9eaf5",
      "metadata": {
        "id": "47c9eaf5"
      },
      "source": [
        "Now we should clear for m\n",
        "\n",
        "$1,210 = 1,000(1+(0.20/m))^{1*m}$\n",
        "\n",
        "To isolate this is pretty difficult so I just substitute 2,3,4... n on the formula.\n",
        "\n",
        "In this case you can see **m=2** to get $V(t) = $1,210$\n",
        "\n",
        "**So it should compound by semester (2 times a year at 21%) to be equivalent**"
      ]
    },
    {
      "cell_type": "code",
      "execution_count": null,
      "id": "69c90954",
      "metadata": {
        "id": "69c90954",
        "outputId": "9a05b15f-56a7-480b-816b-65026aaf1781"
      },
      "outputs": [
        {
          "data": {
            "text/plain": [
              "1210.0"
            ]
          },
          "execution_count": 81,
          "metadata": {},
          "output_type": "execute_result"
        }
      ],
      "source": [
        "round(1000*(1+(0.2/2))**2,2)"
      ]
    },
    {
      "cell_type": "code",
      "execution_count": null,
      "id": "fcf97a9b",
      "metadata": {
        "id": "fcf97a9b"
      },
      "outputs": [],
      "source": []
    }
  ],
  "metadata": {
    "kernelspec": {
      "display_name": "Python 3 (ipykernel)",
      "language": "python",
      "name": "python3"
    },
    "language_info": {
      "codemirror_mode": {
        "name": "ipython",
        "version": 3
      },
      "file_extension": ".py",
      "mimetype": "text/x-python",
      "name": "python",
      "nbconvert_exporter": "python",
      "pygments_lexer": "ipython3",
      "version": "3.9.7"
    },
    "colab": {
      "provenance": [],
      "include_colab_link": true
    }
  },
  "nbformat": 4,
  "nbformat_minor": 5
}